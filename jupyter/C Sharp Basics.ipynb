{
 "cells": [
  {
   "cell_type": "markdown",
   "metadata": {},
   "source": [
    "# String"
   ]
  },
  {
   "cell_type": "code",
   "execution_count": null,
   "metadata": {},
   "outputs": [],
   "source": [
    "//Print variables\n",
    "string firstName = \"Huy\";\n",
    "string lastName = \"Nguyen\";\n",
    "Console.WriteLine($\"My name is {firstName} {lastName}\");\n",
    "Console.WriteLine($\"My name has {firstName.Length} letters\");\n",
    "\n",
    "//Trimming spaces\n",
    "string hello = \"       Hello World        \";\n",
    "Console.WriteLine($\"Trim start spaces {hello.TrimStart()}\");\n",
    "Console.WriteLine($\"Trim end spaces {hello.TrimEnd()}\");\n",
    "Console.WriteLine($\"Trim spaces {hello.Trim()}\");\n",
    "\n",
    "//Replace string\n",
    "string hello2 = \"   Hello Superman    \";\n",
    "Console.WriteLine($\"Replace Hello with Hi : {hello2.Replace(\"Hello\", \"Hi\")}\");\n",
    "\n",
    "//Upper and Lower\n",
    "string hello3 = \"     Hello Babe    \";\n",
    "Console.WriteLine($\"Convert Hello Babe to HELLO BABE : {hello3.ToUpper()}\");\n",
    "Console.WriteLine($\"Convert Hello Babe to hello babe : {hello3.ToLower()}\");\n",
    "\n",
    "//Search a string\n",
    "string songLyrics = \"You say goodbye, I say hello\";\n",
    "Console.WriteLine($\"The Phrase : {songLyrics}\");\n",
    "Console.WriteLine($\"- Contains goodBye : {songLyrics.Contains(\"goodBye\")}\");\n",
    "Console.WriteLine($\"- Contains goodbye : {songLyrics.Contains(\"goodbye\")}\");\n",
    "Console.WriteLine($\"- Starts with Yo : {songLyrics.StartsWith(\"Yo\")}\");\n",
    "Console.WriteLine($\"- Starts with goo : {songLyrics.StartsWith(\"goo\")}\");\n",
    "Console.WriteLine($\"- Ends with lo : {songLyrics.EndsWith(\"lo\")}\");\n"
   ]
  },
  {
   "cell_type": "markdown",
   "metadata": {},
   "source": [
    "# Number"
   ]
  },
  {
   "cell_type": "code",
   "execution_count": null,
   "metadata": {},
   "outputs": [],
   "source": [
    "//First Grade Math\n",
    "int a = 18;\n",
    "int b = 61;\n",
    "int c = a + b;\n",
    "Console.WriteLine($\"a + b = {a} + {b} = {c}\");\n",
    "Console.WriteLine($\"a - b = {a} - {b} = {a-b}\");\n",
    "Console.WriteLine($\"a * b = {a} * {b} = {a*b}\");\n",
    "Console.WriteLine($\"a / b = {a} / {b} = {a/b}\");\n",
    "Console.WriteLine($\"a / (double)b = {a} / {(double)b} = {a/(double)b}\");\n",
    "Console.WriteLine($\"a % b = {a} % {b} = {a%b}\");\n",
    "Console.WriteLine($\"6 % 2 = {6} % {2} = {6%2}\");\n",
    "Console.WriteLine($\"6 % (double)2 = {6} % {(double)2} = {6%2}\");\n",
    "\n",
    "//Min and Max\n",
    "short shortMax = short.MaxValue;\n",
    "short shortMin = short.MinValue;\n",
    "int intMax = int.MaxValue;\n",
    "int intMin = int.MinValue;\n",
    "long longMax = long.MaxValue;\n",
    "long longMin = long.MinValue;\n",
    "double doubMax = double.MaxValue;\n",
    "double doubMin = double.MinValue;\n",
    "decimal decMax = decimal.MaxValue;\n",
    "decimal decMin = decimal.MinValue;\n",
    "Console.WriteLine($\"Max short value : {shortMax}\");\n",
    "Console.WriteLine($\"Min short value : {shortMin}\");\n",
    "Console.WriteLine($\"Max int value : {intMax}\");\n",
    "Console.WriteLine($\"Min int value : {intMin}\");\n",
    "Console.WriteLine($\"Max long value : {longMax}\");\n",
    "Console.WriteLine($\"Min long value : {longMin}\");\n",
    "Console.WriteLine($\"Overflow max int value : {intMax + 1}\");\n",
    "Console.WriteLine($\"Overflow min int value : {intMax - 1}\");\n",
    "Console.WriteLine($\"Max double value : {doubMax}\");\n",
    "Console.WriteLine($\"Min double value : {doubMin}\");\n",
    "Console.WriteLine($\"Max decimal value : {decMax}\");\n",
    "Console.WriteLine($\"Min decmial value: {decMin}\");\n",
    "\n",
    "//Decimal Suffix M\n",
    "decimal suffixDecimal = 3.0M;\n",
    "Console.WriteLine(@$\"To assign a value to a decimal varible,\n",
    "                    we need suffix M : Decimal value 3.0M for {suffixDecimal}\");\n",
    "decimal adec = (decimal)2;\n",
    "Console.WriteLine(@$\"To assign a non-decimal value to a decimal varible,\n",
    "                    we need cast it to decimal with (demimal)number :\n",
    "                    Decimal value (decimal)2 for {adec}\");\n",
    "Console.WriteLine($\"Use GetType() to get type of variable 'adec' : {adec.GetType()}\");\n",
    "\n",
    "//Area of a circle\n",
    "double radius = 2;\n",
    "double area = Math.PI * radius * radius;\n",
    "Console.WriteLine($\"Area = Pi*R^2 = {area} with R = {radius}\");"
   ]
  },
  {
   "cell_type": "markdown",
   "metadata": {},
   "source": [
    "# Array, List, and Collection"
   ]
  },
  {
   "cell_type": "code",
   "execution_count": 98,
   "metadata": {},
   "outputs": [
    {
     "name": "stdout",
     "output_type": "stream",
     "text": [
      "AI\n",
      "HUY\n",
      "HELLO\n"
     ]
    }
   ],
   "source": [
    "//notice 'var' keyword \n",
    "var names = new List<string> {\"Ai\", \"Huy\"};\n",
    "names.Add(\"Hello\");\n",
    "names.Remove(\"Hello\");\n",
    "foreach (string name in names){\n",
    "    Console.WriteLine(name.ToUpper());\n",
    "}"
   ]
  },
  {
   "cell_type": "markdown",
   "metadata": {},
   "source": [
    "# Search, Sort, Index Lists"
   ]
  },
  {
   "cell_type": "code",
   "execution_count": 108,
   "metadata": {},
   "outputs": [
    {
     "name": "stdout",
     "output_type": "stream",
     "text": [
      "AI\n",
      "HUY\n",
      "HELLO\n",
      "-1\n",
      "1\n",
      "After sorting ...\n",
      "AI\n",
      "HELLO\n",
      "HUY\n",
      "--> Ai\n",
      "--> Hello\n",
      "--> Huy\n"
     ]
    }
   ],
   "source": [
    "//notice 'var' keyword \n",
    "var names = new List<string> {\"Hello\",\"Ai\", \"Huy\"};\n",
    "names.Add(\"Hello\");\n",
    "names.Remove(\"Hello\");\n",
    "names.Prepend(\"Hi\");\n",
    "foreach (string name in names){\n",
    "    Console.WriteLine(name.ToUpper());\n",
    "}\n",
    "var index = names.IndexOf(\"huy\");\n",
    "var index2 = names.IndexOf(\"Huy\");\n",
    "Console.WriteLine(index);\n",
    "Console.WriteLine(index2);\n",
    "names.Sort();\n",
    "Console.WriteLine(\"After sorting ...\");\n",
    "foreach (string name in names){\n",
    "    Console.WriteLine(name.ToUpper());\n",
    "}\n",
    "for(int i=0; i < names.Count; i++){\n",
    "    Console.WriteLine($\"--> {names[i]}\");\n",
    "}\n"
   ]
  },
  {
   "cell_type": "markdown",
   "metadata": {},
   "source": [
    "# Object Oriented Programming"
   ]
  },
  {
   "cell_type": "code",
   "execution_count": 110,
   "metadata": {},
   "outputs": [],
   "source": []
  },
  {
   "cell_type": "code",
   "execution_count": null,
   "metadata": {},
   "outputs": [],
   "source": []
  }
 ],
 "metadata": {
  "kernelspec": {
   "display_name": ".NET (C#)",
   "language": "C#",
   "name": ".net-csharp"
  },
  "language_info": {
   "file_extension": ".cs",
   "mimetype": "text/x-csharp",
   "name": "C#",
   "pygments_lexer": "csharp",
   "version": "8.0"
  }
 },
 "nbformat": 4,
 "nbformat_minor": 2
}
